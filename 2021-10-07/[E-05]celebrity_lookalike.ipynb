{
 "cells": [
  {
   "cell_type": "code",
   "execution_count": 1,
   "id": "dc7121e9",
   "metadata": {},
   "outputs": [],
   "source": [
    "import face_recognition\n",
    "import re\n",
    "import os\n",
    "import numpy as np\n",
    "from tkinter import *\n",
    "from PIL import Image, ImageTk"
   ]
  },
  {
   "cell_type": "markdown",
   "id": "9ada295d",
   "metadata": {},
   "source": [
    "필요한 라이브러리들을 import합니다."
   ]
  },
  {
   "cell_type": "code",
   "execution_count": 2,
   "id": "82f18f6c",
   "metadata": {},
   "outputs": [],
   "source": [
    "def get_cropped_face(image_file):\n",
    "    image = face_recognition.load_image_file(image_file)\n",
    "    face_locations = face_recognition.face_locations(image)\n",
    "    a, b, c, d = face_locations[0]\n",
    "    cropped_face = image[a:c,d:b,:]\n",
    "    \n",
    "    return cropped_face"
   ]
  },
  {
   "cell_type": "markdown",
   "id": "bfe9aaa6",
   "metadata": {},
   "source": [
    "원활한 얼굴 인식을 위해 얼굴 부위만 잘라주는 함수를 정의합니다."
   ]
  },
  {
   "cell_type": "code",
   "execution_count": 3,
   "id": "6884d7d1",
   "metadata": {},
   "outputs": [],
   "source": [
    "def get_face_embedding(face):\n",
    "    return face_recognition.face_encodings(face)[0]"
   ]
  },
  {
   "cell_type": "code",
   "execution_count": 4,
   "id": "2ed8ab92",
   "metadata": {},
   "outputs": [],
   "source": [
    "def get_face_embedding_dict(dir_path):\n",
    "    file_list = os.listdir(dir_path)\n",
    "    embedding_dict = {}\n",
    "    \n",
    "    for file in file_list:\n",
    "        image_file = os.path.join(dir_path, file)\n",
    "        face = get_cropped_face(image_file)\n",
    "        embedding_dict[re.sub(r\"\\..+\", \"\", file)] = get_face_embedding(face)\n",
    "        \n",
    "    return embedding_dict"
   ]
  },
  {
   "cell_type": "markdown",
   "id": "7aff2da0",
   "metadata": {},
   "source": [
    "쉽게 비교하기 위해 얼굴 벡터 정보를 딕셔너리에 넣어줍니다."
   ]
  },
  {
   "cell_type": "code",
   "execution_count": 5,
   "id": "14e584a3",
   "metadata": {},
   "outputs": [],
   "source": [
    "def get_distance(name1, name2, embedding_dict):\n",
    "    return np.linalg.norm(embedding_dict[name1]-embedding_dict[name2], ord=2)"
   ]
  },
  {
   "cell_type": "markdown",
   "id": "142e60f8",
   "metadata": {},
   "source": [
    "두 얼굴 벡터 사이의 차이를 구하는 함수를 정의합니다."
   ]
  },
  {
   "cell_type": "code",
   "execution_count": 6,
   "id": "79079aed",
   "metadata": {},
   "outputs": [],
   "source": [
    "def get_nearest_face(name, embedding_dict, top=5):\n",
    "    distance_dict = {key: get_distance(name, key, embedding_dict) for key in embedding_dict.keys()}\n",
    "    i = 1\n",
    "    for key, val in sorted(distance_dict.items(), key=lambda item: item[1]):\n",
    "        if not re.match(key[:-1], name):\n",
    "            print(f\"순위 {i}: 이름 ({key}), 거리({val})\")\n",
    "            if i is top:\n",
    "                break\n",
    "            i += 1"
   ]
  },
  {
   "cell_type": "markdown",
   "id": "b4f93782",
   "metadata": {},
   "source": [
    "가장 닮은 얼굴 순위를 정해주는 함수를 정의합니다."
   ]
  },
  {
   "cell_type": "code",
   "execution_count": 7,
   "id": "221ab926",
   "metadata": {},
   "outputs": [],
   "source": [
    "dir_path = os.getenv('HOME')+'/AIFFEL/2021-10-07/images'\n",
    "embedding_dict = get_face_embedding_dict(dir_path)"
   ]
  },
  {
   "cell_type": "code",
   "execution_count": 8,
   "id": "350387c2",
   "metadata": {},
   "outputs": [
    {
     "name": "stdout",
     "output_type": "stream",
     "text": [
      "순위 1: 이름 (mina), 거리(0.42425971050483674)\n",
      "순위 2: 이름 (boyoung), 거리(0.44283604887891936)\n",
      "순위 3: 이름 (yuna), 거리(0.4542379258195572)\n",
      "순위 4: 이름 (goeun), 거리(0.4769009722058174)\n",
      "순위 5: 이름 (sodam), 거리(0.4780564574584746)\n"
     ]
    }
   ],
   "source": [
    "get_nearest_face(\"jihyun2\",embedding_dict)"
   ]
  },
  {
   "cell_type": "code",
   "execution_count": 9,
   "id": "40b988e2",
   "metadata": {},
   "outputs": [
    {
     "name": "stdout",
     "output_type": "stream",
     "text": [
      "순위 1: 이름 (sodam), 거리(0.4223197401376081)\n",
      "순위 2: 이름 (mina), 거리(0.4305613356589147)\n",
      "순위 3: 이름 (goeun), 거리(0.44320246105220495)\n",
      "순위 4: 이름 (yuna), 거리(0.45273202918991917)\n",
      "순위 5: 이름 (yeri), 거리(0.48262088204750647)\n"
     ]
    }
   ],
   "source": [
    "get_nearest_face(\"jihyun1\",embedding_dict)"
   ]
  },
  {
   "cell_type": "markdown",
   "id": "47b7d1f3",
   "metadata": {},
   "source": [
    "제 자신을 제외하고 가장 닮은 얼굴 순위를 뽑아보았습니다. 걸스데이 민아, 배우 김고은, 배우 박소담, 피겨스케이트 선수 김연아 이렇게 공통적으로 닮았다고 나오는군요!"
   ]
  },
  {
   "cell_type": "markdown",
   "id": "562f4088",
   "metadata": {},
   "source": [
    "# 재미있는 시각화\n",
    "\n",
    "누가 얼만큼 닮았는지를 표처럼 나타내 보았습니다."
   ]
  },
  {
   "cell_type": "code",
   "execution_count": 10,
   "id": "2930c610",
   "metadata": {},
   "outputs": [],
   "source": [
    "window = Tk()\n",
    "window.title(\"누가 누가 닮았나\")\n",
    "window.config(padx=20, pady=20)\n",
    "thumbnail_dir = os.getenv('HOME')+'/AIFFEL/2021-10-07/thumbnails'"
   ]
  },
  {
   "cell_type": "markdown",
   "id": "861b652f",
   "metadata": {},
   "source": [
    "우선 `tkinter` 윈도우를 만들고 얼굴 사진들의 디렉토리를 지정합니다."
   ]
  },
  {
   "cell_type": "code",
   "execution_count": 11,
   "id": "d8777fe0",
   "metadata": {},
   "outputs": [],
   "source": [
    "# for file in os.listdir(dir_path):\n",
    "#     file_path = os.path.join(dir_path, file)\n",
    "#     face = get_cropped_face(file_path)\n",
    "#     pillow_image = Image.fromarray(face)\n",
    "#     pillow_image = pillow_image.resize((50,50))\n",
    "#     pillow_image.save(os.path.join(thumbnail_dir, file))"
   ]
  },
  {
   "cell_type": "markdown",
   "id": "6e77daa1",
   "metadata": {},
   "source": [
    "그리고 얼굴 이미지들을 불러와서 리사이즈 해서 저장합니다. 이 코드는 한 번만 실행하면 다 저장되므로 주석 처리 해두었습니다."
   ]
  },
  {
   "cell_type": "code",
   "execution_count": 12,
   "id": "a84921a0",
   "metadata": {},
   "outputs": [],
   "source": [
    "faces_list = os.listdir(thumbnail_dir)\n",
    "faces_list.insert(0, None)\n",
    "content = []\n",
    "files = []\n",
    "for k in range(len(faces_list)):\n",
    "    content.insert(k, [])\n",
    "for i, file1 in enumerate(faces_list):\n",
    "    for j, file2 in enumerate(faces_list):\n",
    "        if j == 0 and i == 0:\n",
    "            content[i].insert(j, Label(text=\"숫자가\\n작을수록\\n닮았습니다.\"))\n",
    "        elif j == 0:\n",
    "            content[i].insert(j, Canvas(height=50, width=50))\n",
    "            file1_image = ImageTk.PhotoImage(file=os.path.join(thumbnail_dir, file1))\n",
    "            files.append(file1_image)\n",
    "            content[i][j].create_image(25, 25, image=file1_image)\n",
    "        elif i == 0:\n",
    "            content[i].insert(j, Canvas(height=50, width=50))\n",
    "            file2_image = ImageTk.PhotoImage(file=os.path.join(thumbnail_dir, file2))\n",
    "            files.append(file2_image)\n",
    "            content[i][j].create_image(25, 25, image=file2_image)\n",
    "        else:\n",
    "            content[i].insert(j, Label(text=str(round(get_distance(re.sub(r\"\\..+\", \"\", file1), re.sub(r\"\\..+\", \"\", file2), embedding_dict), 2))))\n",
    "        content[i][j].grid(row=i, column=j)"
   ]
  },
  {
   "cell_type": "markdown",
   "id": "29fb9c2d",
   "metadata": {},
   "source": [
    "그리고 반복문을 통해 얼굴마다 사진을 출력하고 각기 다른 얼굴들의 차이를 출력합니다."
   ]
  },
  {
   "cell_type": "code",
   "execution_count": 13,
   "id": "9030c859",
   "metadata": {},
   "outputs": [],
   "source": [
    "window.mainloop()"
   ]
  },
  {
   "cell_type": "markdown",
   "id": "64cdc910",
   "metadata": {},
   "source": [
    "`tkinter` 윈도우를 켜놓기 위한 코드입니다."
   ]
  },
  {
   "cell_type": "markdown",
   "id": "20dcea07",
   "metadata": {},
   "source": [
    "## 시각화 결과\n",
    "![시각화 결과](screenshot.png)\n",
    "\n",
    "시각화 결과는 다음과 같이 나옵니다."
   ]
  },
  {
   "cell_type": "markdown",
   "id": "e07fb411",
   "metadata": {},
   "source": [
    "# 회고\n",
    "\n",
    "**어려웠던 점**: 재미있는 시각화 아이디어를 내는 것이 어려웠고 tkinter를 쓴지 오래되어 다시 익히는 것이 어려웠습니다.\n",
    "\n",
    "**알아낸 것**: face_recognition 라이브러리에 대해서 더 배우게 되었습니다.\n",
    "\n",
    "**아직 모호한 점**: L2, L1 distance의 개념을 아직 정확히 이해하고 있지 않은 것 같습니다.\n",
    "\n",
    "**평가 지표를 맞추기 위해 시도한 것들**: 재미있는 시각화를 하기 위해 tkinter를 사용하였습니다.\n",
    "\n",
    "**다짐**: Norm distance에 대해 더 알아봐야겠습니다."
   ]
  }
 ],
 "metadata": {
  "kernelspec": {
   "display_name": "Python 3 (ipykernel)",
   "language": "python",
   "name": "python3"
  },
  "language_info": {
   "codemirror_mode": {
    "name": "ipython",
    "version": 3
   },
   "file_extension": ".py",
   "mimetype": "text/x-python",
   "name": "python",
   "nbconvert_exporter": "python",
   "pygments_lexer": "ipython3",
   "version": "3.8.11"
  }
 },
 "nbformat": 4,
 "nbformat_minor": 5
}
