{
 "cells": [
  {
   "cell_type": "code",
   "execution_count": 1,
   "metadata": {},
   "outputs": [],
   "source": [
    "import glob\n",
    "import os, re\n",
    "import numpy as np\n",
    "import tensorflow as tf\n",
    "from sklearn.model_selection import train_test_split\n",
    "\n",
    "txt_file_path = os.getenv('HOME')+'/aiffel/lyricist/data/lyrics/*'\n",
    "\n",
    "txt_list = glob.glob(txt_file_path)\n",
    "\n",
    "raw_corpus = []\n",
    "\n",
    "for txt_file in txt_list:\n",
    "    with open(txt_file, \"r\", encoding='utf-8-sig') as f:\n",
    "        raw = f.read().splitlines()\n",
    "        raw_corpus.extend(raw)"
   ]
  },
  {
   "cell_type": "markdown",
   "metadata": {},
   "source": [
    "필요한 라이브러리들을 `import`하고 파일들을 읽어옵니다."
   ]
  },
  {
   "cell_type": "code",
   "execution_count": 2,
   "metadata": {},
   "outputs": [],
   "source": [
    "def preprocess_sentence(sentence):\n",
    "    sentence = sentence.lower().strip()\n",
    "    sentence = re.sub(r\"[\\(?\\.!,¿\\)]\", r\"\", sentence)\n",
    "    sentence = re.sub(r'[\" \"]+', \" \", sentence)\n",
    "    sentence = re.sub(r\"[^a-zA-Z?.!,¿]+\", \" \", sentence)\n",
    "    sentence = sentence.strip()\n",
    "    sentence = '<start> ' + sentence + ' <end>'\n",
    "    return sentence"
   ]
  },
  {
   "cell_type": "markdown",
   "metadata": {},
   "source": [
    "불필요한 공백, 특수문자 등을 없애주고 양 끝에 `<start>`와 `<end>`를 덧붙입니다."
   ]
  },
  {
   "cell_type": "code",
   "execution_count": 3,
   "metadata": {},
   "outputs": [],
   "source": [
    "corpus = []\n",
    "for sentence in raw_corpus:\n",
    "    if len(sentence) == 0: continue\n",
    "    if len(re.findall(r\" \", sentence)) >= 14: continue\n",
    "    if re.search(r'\\[', sentence): continue\n",
    "    preprocessed_sentence = preprocess_sentence(sentence)\n",
    "    corpus.append(preprocessed_sentence)"
   ]
  },
  {
   "cell_type": "markdown",
   "metadata": {},
   "source": [
    "길이가 0인 문장, 중간 공백의 개수가 14개 이상, 즉 단어 개수가 15개 이상인 문장, \"\\[Hook\\]\"과 같은 줄을 제외한 뒤 `preprocess_sentence`함수를 적용해 `corpus`에 넣습니다.."
   ]
  },
  {
   "cell_type": "code",
   "execution_count": 4,
   "metadata": {},
   "outputs": [],
   "source": [
    "def tokenize(corpus):\n",
    "    tokenizer = tf.keras.preprocessing.text.Tokenizer(\n",
    "        num_words=12000, \n",
    "        filters=' ',\n",
    "        oov_token=\"<unk>\"\n",
    "    )\n",
    "    tokenizer.fit_on_texts(corpus)\n",
    "    tensor = tokenizer.texts_to_sequences(corpus)\n",
    "    tensor = tf.keras.preprocessing.sequence.pad_sequences(tensor, maxlen=15, padding='post')  \n",
    "    return tensor, tokenizer\n",
    "\n",
    "tensor, tokenizer = tokenize(corpus)"
   ]
  },
  {
   "cell_type": "markdown",
   "metadata": {},
   "source": [
    "텍스트들을 토큰화 하고 텐서에 넣습니다."
   ]
  },
  {
   "cell_type": "code",
   "execution_count": 5,
   "metadata": {},
   "outputs": [],
   "source": [
    "src_input = tensor[:, :-1]\n",
    "tgt_input = tensor[:, 1:]"
   ]
  },
  {
   "cell_type": "markdown",
   "metadata": {},
   "source": [
    "텐서의 마지막 토큰을 뺀 것을 `src_input`으로 하고, 첫 번째 토큰을 뺀 것을 `tgt_input`으로 합니다."
   ]
  },
  {
   "cell_type": "code",
   "execution_count": 6,
   "metadata": {},
   "outputs": [],
   "source": [
    "enc_train, enc_val, dec_train, dec_val = train_test_split(src_input, tgt_input, test_size=0.2, random_state=12)"
   ]
  },
  {
   "cell_type": "markdown",
   "metadata": {},
   "source": [
    "`train_test_split()`으로 train 데이터와 validation 데이터를 나눕니다."
   ]
  },
  {
   "cell_type": "code",
   "execution_count": 7,
   "metadata": {},
   "outputs": [],
   "source": [
    "class TextGenerator(tf.keras.Model):\n",
    "    def __init__(self, vocab_size, embedding_size, hidden_size):\n",
    "        super().__init__()\n",
    "        \n",
    "        self.embedding = tf.keras.layers.Embedding(vocab_size, embedding_size)\n",
    "        self.rnn_1 = tf.keras.layers.LSTM(hidden_size, return_sequences=True)\n",
    "        self.rnn_2 = tf.keras.layers.LSTM(hidden_size, return_sequences=True)\n",
    "        self.linear = tf.keras.layers.Dense(vocab_size)\n",
    "        \n",
    "    def call(self, x):\n",
    "        out = self.embedding(x)\n",
    "        out = self.rnn_1(out)\n",
    "        out = self.rnn_2(out)\n",
    "        out = self.linear(out)\n",
    "        \n",
    "        return out\n",
    "    \n",
    "embedding_size = 300\n",
    "hidden_size = 2200\n",
    "model = TextGenerator(tokenizer.num_words + 1, embedding_size , hidden_size)"
   ]
  },
  {
   "cell_type": "markdown",
   "metadata": {},
   "source": [
    "Keras의 `Model`을 상속하는 모델 클래스를 만듭니다. Model의 `embedding_size`는 너무 낮거나 높으면 잘 안 되는 것 같아 여러 가지를 시도해보면서 조정하였습니다. `hidden_size`또한 `val_loss`를 줄이기 위해 여러 값을 시도해 보았습니다."
   ]
  },
  {
   "cell_type": "code",
   "execution_count": 8,
   "metadata": {
    "scrolled": false
   },
   "outputs": [
    {
     "name": "stdout",
     "output_type": "stream",
     "text": [
      "Epoch 1/10\n",
      "4122/4122 [==============================] - 1088s 258ms/step - loss: 3.3121 - val_loss: 2.6931\n",
      "Epoch 2/10\n",
      "4122/4122 [==============================] - 1083s 263ms/step - loss: 2.4721 - val_loss: 2.4249\n",
      "Epoch 3/10\n",
      "4122/4122 [==============================] - 1059s 257ms/step - loss: 1.9601 - val_loss: 2.2767\n",
      "Epoch 4/10\n",
      "4122/4122 [==============================] - 1064s 258ms/step - loss: 1.5717 - val_loss: 2.2306\n",
      "Epoch 5/10\n",
      "4122/4122 [==============================] - 1075s 261ms/step - loss: 1.2303 - val_loss: 2.1836\n",
      "Epoch 6/10\n",
      "4122/4122 [==============================] - 1061s 257ms/step - loss: 1.0940 - val_loss: 2.1829\n",
      "Epoch 7/10\n",
      "4122/4122 [==============================] - 1061s 257ms/step - loss: 1.0229 - val_loss: 2.1957\n",
      "Epoch 8/10\n",
      "4122/4122 [==============================] - 1058s 257ms/step - loss: 1.0160 - val_loss: 2.1978\n"
     ]
    },
    {
     "data": {
      "text/plain": [
       "<tensorflow.python.keras.callbacks.History at 0x7fb58865a2d0>"
      ]
     },
     "execution_count": 8,
     "metadata": {},
     "output_type": "execute_result"
    }
   ],
   "source": [
    "optimizer = tf.keras.optimizers.Adam()\n",
    "loss = tf.keras.losses.SparseCategoricalCrossentropy(\n",
    "    from_logits=True, reduction='none')\n",
    "\n",
    "model.compile(loss=loss, optimizer=optimizer)\n",
    "\n",
    "reduce_lr = tf.keras.callbacks.ReduceLROnPlateau(monitor='val_loss', factor=0.1, patience=1, min_delta=0.05, min_lr=1e-5)\n",
    "stop_early = tf.keras.callbacks.EarlyStopping(monitor=\"val_loss\", patience=2)\n",
    "model.fit(enc_train, dec_train, epochs=10, validation_data=(enc_val, dec_val), callbacks=[reduce_lr, stop_early])"
   ]
  },
  {
   "cell_type": "markdown",
   "metadata": {},
   "source": [
    "Model의 `optimizer`를 Adam으로 지정하고 `compile`하여 `fit`으로 학습시킵니다."
   ]
  },
  {
   "cell_type": "code",
   "execution_count": 9,
   "metadata": {},
   "outputs": [],
   "source": [
    "def generate_text(model, tokenizer, init_sentence=\"<start>\", max_len=20):\n",
    "    test_input = tokenizer.texts_to_sequences([init_sentence])\n",
    "    test_tensor = tf.convert_to_tensor(test_input, dtype=tf.int64)\n",
    "    end_token = tokenizer.word_index[\"<end>\"]\n",
    "\n",
    "    while True:\n",
    "\n",
    "        predict = model(test_tensor) \n",
    "\n",
    "        predict_word = tf.argmax(tf.nn.softmax(predict, axis=-1), axis=-1)[:, -1] \n",
    "\n",
    "        test_tensor = tf.concat([test_tensor, tf.expand_dims(predict_word, axis=0)], axis=-1)\n",
    "\n",
    "        if predict_word.numpy()[0] == end_token: break\n",
    "        if test_tensor.shape[1] >= max_len: break\n",
    "\n",
    "    generated = \"\"\n",
    "    for word_index in test_tensor[0].numpy():\n",
    "        generated += tokenizer.index_word[word_index] + \" \"\n",
    "\n",
    "    return generated"
   ]
  },
  {
   "cell_type": "markdown",
   "metadata": {},
   "source": [
    "모델을 이용해 가사를 만들어내는 `generate_text` 함수를 구현합니다."
   ]
  },
  {
   "cell_type": "code",
   "execution_count": 10,
   "metadata": {},
   "outputs": [
    {
     "name": "stdout",
     "output_type": "stream",
     "text": [
      "<start> you know i m bad i m bad you know it <end> \n",
      "<start> i m the one gon hold you down <end> \n",
      "<start> i love you <end> \n",
      "<start> i hate the headlines and the weather <end> \n"
     ]
    }
   ],
   "source": [
    "print(generate_text(model, tokenizer, init_sentence=\"<start> you\", max_len=20))\n",
    "print(generate_text(model, tokenizer, init_sentence=\"<start> i\", max_len=20))\n",
    "print(generate_text(model, tokenizer, init_sentence=\"<start> i love\", max_len=20))\n",
    "print(generate_text(model, tokenizer, init_sentence=\"<start> i hate\", max_len=20))"
   ]
  },
  {
   "cell_type": "markdown",
   "metadata": {},
   "source": [
    "## 회고\n",
    "\n",
    "**어려웠던 점**: 여러가지를 조정해 보면서 테스트를 해야 하는데 테스트 한 번 돌릴 때마다 1시간 이상 걸리는 점이 제일 어려웠습니다.\n",
    "\n",
    "**알아낸 것**: 손실이 줄어드는 방향으로 하이퍼파라미터를 조절해가는 게 마치 경사하강법 같군요...\n",
    "\n",
    "**아직 모호한 점**: `loss`에도 종류가 있는데 차이점이 무엇인지 더 알아봐야 할 것 같습니다. 또 keras layer들의 argument에 대한 이해가 뭔가 두루뭉실하고 어떤 영향을 미치는지 완전히 이해하지 못한 채 결과를 보면서 값만 조정한 느낌이 듭니다.\n",
    "\n",
    "**평가 지표를 맞추기 위해 시도한 것들**: validation loss를 줄이기 위해 다양한 `embedding_size`와 `hidden_size`를 시도해보았습니다. 또 `ReduceLROnPlateau`라는 `callback`을 추가했습니다.\n",
    "\n",
    "**다짐**: 좀 더 공부해서 라임을 맞추는 랩 프리스타일 인공지능을 시도해보고 싶습니다."
   ]
  }
 ],
 "metadata": {
  "interpreter": {
   "hash": "3e6c5ba9674280da5bd103195eefa33a3cf8ae144d0efe1a5ff204afaf07e890"
  },
  "kernelspec": {
   "display_name": "Python 3",
   "language": "python",
   "name": "python3"
  },
  "language_info": {
   "codemirror_mode": {
    "name": "ipython",
    "version": 3
   },
   "file_extension": ".py",
   "mimetype": "text/x-python",
   "name": "python",
   "nbconvert_exporter": "python",
   "pygments_lexer": "ipython3",
   "version": "3.7.9"
  }
 },
 "nbformat": 4,
 "nbformat_minor": 2
}
